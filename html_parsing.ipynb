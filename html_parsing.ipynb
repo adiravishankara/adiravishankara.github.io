{
 "cells": [
  {
   "cell_type": "code",
   "execution_count": 228,
   "metadata": {
    "collapsed": true
   },
   "outputs": [],
   "source": [
    "import glob\n",
    "import os\n",
    "\n",
    "import bs4"
   ]
  },
  {
   "cell_type": "code",
   "execution_count": 229,
   "outputs": [
    {
     "name": "stdout",
     "output_type": "stream",
     "text": [
      "['about.html', 'blog.html', 'index.html', 'Jupyter_blog.html', 'projects.html', 'test.html', 'Blogs/first-web-app.html', 'Blogs/first-web-app2.html', 'Blogs/first-web-app3.html']\n"
     ]
    }
   ],
   "source": [
    "html_files = glob.glob('**/**.html', recursive=True)\n",
    "html_files = [file.replace('\\\\','/') for file in html_files]\n",
    "print(html_files)"
   ],
   "metadata": {
    "collapsed": false
   }
  },
  {
   "cell_type": "code",
   "execution_count": 230,
   "outputs": [
    {
     "name": "stdout",
     "output_type": "stream",
     "text": [
      "Old: v1\n",
      "New: About Me\n"
     ]
    }
   ],
   "source": [
    "#dir = os.getcwd().replace(\"\\\\\", '/')\n",
    "\n",
    "soup = bs4.BeautifulSoup(open('{}'.format('Blogs/first-web-app.html'), 'r', encoding='utf-8'), 'html.parser')\n",
    "A = soup.title\n",
    "print(\"Old: {}\".format(A.string))\n",
    "A.string = 'About Me'\n",
    "print(\"New: {}\".format(A.string))\n",
    "\n",
    "\n",
    "with open('{}'.format('Blogs/first-web-app.html'), 'wb') as f:\n",
    "    f.write(soup.prettify('utf-8'))"
   ],
   "metadata": {
    "collapsed": false
   }
  },
  {
   "cell_type": "code",
   "execution_count": null,
   "outputs": [],
   "source": [
    "with open('about.html', 'r') as f\n",
    "UnicodeDecodeError: 'charmap' codec can't decode byte 0x9d in position 7663: character maps to <undefined>:\n",
    "    soup = bs4.BeautifulSoup(f, 'html.parser')\n",
    "    print(soup.title)\n",
    "    f.close()"
   ],
   "metadata": {
    "collapsed": false
   }
  },
  {
   "cell_type": "code",
   "execution_count": null,
   "outputs": [],
   "source": [
    "str(input(\"The filename is: \") or \"ADI\")\n"
   ],
   "metadata": {
    "collapsed": false
   }
  },
  {
   "cell_type": "code",
   "execution_count": null,
   "outputs": [],
   "source": [],
   "metadata": {
    "collapsed": false
   }
  }
 ],
 "metadata": {
  "kernelspec": {
   "display_name": "Python 3",
   "language": "python",
   "name": "python3"
  },
  "language_info": {
   "codemirror_mode": {
    "name": "ipython",
    "version": 2
   },
   "file_extension": ".py",
   "mimetype": "text/x-python",
   "name": "python",
   "nbconvert_exporter": "python",
   "pygments_lexer": "ipython2",
   "version": "2.7.6"
  }
 },
 "nbformat": 4,
 "nbformat_minor": 0
}
